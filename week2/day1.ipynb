{
 "cells": [
  {
   "cell_type": "markdown",
   "id": "06cf3063-9f3e-4551-a0d5-f08d9cabb927",
   "metadata": {},
   "source": [
    "# Welcome to Week 2!\n",
    "\n",
    "## Frontier Model APIs\n",
    "\n",
    "In Week 1, we used multiple Frontier LLMs through their Chat UI, and we connected with the OpenAI's API.\n",
    "\n",
    "Today we'll connect with the APIs for Anthropic and Google, as well as OpenAI."
   ]
  },
  {
   "cell_type": "markdown",
   "id": "2b268b6e-0ba4-461e-af86-74a41f4d681f",
   "metadata": {},
   "source": [
    "<table style=\"margin: 0; text-align: left;\">\n",
    "    <tr>\n",
    "        <td style=\"width: 150px; height: 150px; vertical-align: middle;\">\n",
    "            <img src=\"../important.jpg\" width=\"150\" height=\"150\" style=\"display: block;\" />\n",
    "        </td>\n",
    "        <td>\n",
    "            <h2 style=\"color:#900;\">Important Note - Please read me</h2>\n",
    "            <span style=\"color:#900;\">I'm continually improving these labs, adding more examples and exercises.\n",
    "            At the start of each week, it's worth checking you have the latest code.<br/>\n",
    "            First do a <a href=\"https://chatgpt.com/share/6734e705-3270-8012-a074-421661af6ba9\">git pull and merge your changes as needed</a>. Any problems? Try asking ChatGPT to clarify how to merge - or contact me!<br/><br/>\n",
    "            After you've pulled the code, from the llm_engineering directory, in an Anaconda prompt (PC) or Terminal (Mac), run:<br/>\n",
    "            <code>conda env update --f environment.yml</code><br/>\n",
    "            Or if you used virtualenv rather than Anaconda, then run this from your activated environment in a Powershell (PC) or Terminal (Mac):<br/>\n",
    "            <code>pip install -r requirements.txt</code>\n",
    "            <br/>Then restart the kernel (Kernel menu >> Restart Kernel and Clear Outputs Of All Cells) to pick up the changes.\n",
    "            </span>\n",
    "        </td>\n",
    "    </tr>\n",
    "</table>\n",
    "<table style=\"margin: 0; text-align: left;\">\n",
    "    <tr>\n",
    "        <td style=\"width: 150px; height: 150px; vertical-align: middle;\">\n",
    "            <img src=\"../resources.jpg\" width=\"150\" height=\"150\" style=\"display: block;\" />\n",
    "        </td>\n",
    "        <td>\n",
    "            <h2 style=\"color:#f71;\">Reminder about the resources page</h2>\n",
    "            <span style=\"color:#f71;\">Here's a link to resources for the course. This includes links to all the slides.<br/>\n",
    "            <a href=\"https://edwarddonner.com/2024/11/13/llm-engineering-resources/\">https://edwarddonner.com/2024/11/13/llm-engineering-resources/</a><br/>\n",
    "            Please keep this bookmarked, and I'll continue to add more useful links there over time.\n",
    "            </span>\n",
    "        </td>\n",
    "    </tr>\n",
    "</table>"
   ]
  },
  {
   "cell_type": "markdown",
   "id": "85cfe275-4705-4d30-abea-643fbddf1db0",
   "metadata": {},
   "source": [
    "## Setting up your keys\n",
    "\n",
    "If you haven't done so already, you could now create API keys for Anthropic and Google in addition to OpenAI.\n",
    "\n",
    "**Please note:** if you'd prefer to avoid extra API costs, feel free to skip setting up Anthopic and Google! You can see me do it, and focus on OpenAI for the course. You could also substitute Anthropic and/or Google for Ollama, using the exercise you did in week 1.\n",
    "\n",
    "For OpenAI, visit https://openai.com/api/  \n",
    "For Anthropic, visit https://console.anthropic.com/  \n",
    "For Google, visit https://ai.google.dev/gemini-api  \n",
    "\n",
    "### Also - adding DeepSeek if you wish\n",
    "\n",
    "Optionally, if you'd like to also use DeepSeek, create an account [here](https://platform.deepseek.com/), create a key [here](https://platform.deepseek.com/api_keys) and top up with at least the minimum $2 [here](https://platform.deepseek.com/top_up).\n",
    "\n",
    "### Adding API keys to your .env file\n",
    "\n",
    "When you get your API keys, you need to set them as environment variables by adding them to your `.env` file.\n",
    "\n",
    "```\n",
    "OPENAI_API_KEY=xxxx\n",
    "ANTHROPIC_API_KEY=xxxx\n",
    "GOOGLE_API_KEY=xxxx\n",
    "DEEPSEEK_API_KEY=xxxx\n",
    "```\n",
    "\n",
    "Afterwards, you may need to restart the Jupyter Lab Kernel (the Python process that sits behind this notebook) via the Kernel menu, and then rerun the cells from the top."
   ]
  },
  {
   "cell_type": "code",
   "execution_count": 4,
   "id": "de23bb9e-37c5-4377-9a82-d7b6c648eeb6",
   "metadata": {},
   "outputs": [],
   "source": [
    "# imports\n",
    "\n",
    "import os\n",
    "from dotenv import load_dotenv\n",
    "from openai import OpenAI\n",
    "import anthropic\n",
    "from IPython.display import Markdown, display, update_display"
   ]
  },
  {
   "cell_type": "code",
   "execution_count": 5,
   "id": "f0a8ab2b-6134-4104-a1bc-c3cd7ea4cd36",
   "metadata": {},
   "outputs": [],
   "source": [
    "# import for google\n",
    "# in rare cases, this seems to give an error on some systems, or even crashes the kernel\n",
    "# If this happens to you, simply ignore this cell - I give an alternative approach for using Gemini later\n",
    "\n",
    "import google.generativeai"
   ]
  },
  {
   "cell_type": "code",
   "execution_count": 6,
   "id": "1179b4c5-cd1f-4131-a876-4c9f3f38d2ba",
   "metadata": {},
   "outputs": [
    {
     "name": "stdout",
     "output_type": "stream",
     "text": [
      "OpenAI API Key exists and begins sk-proj-\n",
      "Anthropic API Key exists and begins sk-ant-\n",
      "Google API Key exists and begins AIzaSyCv\n"
     ]
    }
   ],
   "source": [
    "# Load environment variables in a file called .env\n",
    "# Print the key prefixes to help with any debugging\n",
    "\n",
    "load_dotenv(override=True)\n",
    "openai_api_key = os.getenv('OPENAI_API_KEY')\n",
    "anthropic_api_key = os.getenv('ANTHROPIC_API_KEY')\n",
    "google_api_key = os.getenv('GOOGLE_API_KEY')\n",
    "\n",
    "if openai_api_key:\n",
    "    print(f\"OpenAI API Key exists and begins {openai_api_key[:8]}\")\n",
    "else:\n",
    "    print(\"OpenAI API Key not set\")\n",
    "    \n",
    "if anthropic_api_key:\n",
    "    print(f\"Anthropic API Key exists and begins {anthropic_api_key[:7]}\")\n",
    "else:\n",
    "    print(\"Anthropic API Key not set\")\n",
    "\n",
    "if google_api_key:\n",
    "    print(f\"Google API Key exists and begins {google_api_key[:8]}\")\n",
    "else:\n",
    "    print(\"Google API Key not set\")"
   ]
  },
  {
   "cell_type": "code",
   "execution_count": 7,
   "id": "797fe7b0-ad43-42d2-acf0-e4f309b112f0",
   "metadata": {},
   "outputs": [],
   "source": [
    "# Connect to OpenAI, Anthropic\n",
    "\n",
    "openai = OpenAI()\n",
    "\n",
    "claude = anthropic.Anthropic()"
   ]
  },
  {
   "cell_type": "code",
   "execution_count": 8,
   "id": "425ed580-808d-429b-85b0-6cba50ca1d0c",
   "metadata": {},
   "outputs": [],
   "source": [
    "# This is the set up code for Gemini\n",
    "# Having problems with Google Gemini setup? Then just ignore this cell; when we use Gemini, I'll give you an alternative that bypasses this library altogether\n",
    "\n",
    "google.generativeai.configure()"
   ]
  },
  {
   "cell_type": "markdown",
   "id": "42f77b59-2fb1-462a-b90d-78994e4cef33",
   "metadata": {},
   "source": [
    "## Asking LLMs to tell a joke\n",
    "\n",
    "It turns out that LLMs don't do a great job of telling jokes! Let's compare a few models.\n",
    "Later we will be putting LLMs to better use!\n",
    "\n",
    "### What information is included in the API\n",
    "\n",
    "Typically we'll pass to the API:\n",
    "- The name of the model that should be used\n",
    "- A system message that gives overall context for the role the LLM is playing\n",
    "- A user message that provides the actual prompt\n",
    "\n",
    "There are other parameters that can be used, including **temperature** which is typically between 0 and 1; higher for more random output; lower for more focused and deterministic."
   ]
  },
  {
   "cell_type": "code",
   "execution_count": 9,
   "id": "378a0296-59a2-45c6-82eb-941344d3eeff",
   "metadata": {},
   "outputs": [],
   "source": [
    "system_message = \"You are an assistant that is great at telling jokes\"\n",
    "user_prompt = \"Tell a light-hearted joke for an audience of Data Scientists\""
   ]
  },
  {
   "cell_type": "code",
   "execution_count": 10,
   "id": "f4d56a0f-2a3d-484d-9344-0efa6862aff4",
   "metadata": {},
   "outputs": [],
   "source": [
    "prompts = [\n",
    "    {\"role\": \"system\", \"content\": system_message},\n",
    "    {\"role\": \"user\", \"content\": user_prompt}\n",
    "  ]"
   ]
  },
  {
   "cell_type": "code",
   "execution_count": 11,
   "id": "3b3879b6-9a55-4fed-a18c-1ea2edfaf397",
   "metadata": {},
   "outputs": [
    {
     "name": "stdout",
     "output_type": "stream",
     "text": [
      "Why did the data scientist bring a ladder to work?  \n",
      "\n",
      "Because they heard the job had a lot of \"high-level\" tasks!\n"
     ]
    }
   ],
   "source": [
    "# GPT-4o-mini\n",
    "\n",
    "completion = openai.chat.completions.create(model='gpt-4o-mini', messages=prompts)\n",
    "print(completion.choices[0].message.content)"
   ]
  },
  {
   "cell_type": "code",
   "execution_count": 12,
   "id": "3d2d6beb-1b81-466f-8ed1-40bf51e7adbf",
   "metadata": {},
   "outputs": [
    {
     "name": "stdout",
     "output_type": "stream",
     "text": [
      "Why did the data scientist break up with the statistician?\n",
      "\n",
      "Because she found him too mean!\n"
     ]
    }
   ],
   "source": [
    "# GPT-4.1-mini\n",
    "# Temperature setting controls creativity\n",
    "\n",
    "completion = openai.chat.completions.create(\n",
    "    model='gpt-4.1-mini',\n",
    "    messages=prompts,\n",
    "    temperature=0.7\n",
    ")\n",
    "print(completion.choices[0].message.content)"
   ]
  },
  {
   "cell_type": "code",
   "execution_count": 13,
   "id": "12d2a549-9d6e-4ea0-9c3e-b96a39e9959e",
   "metadata": {},
   "outputs": [
    {
     "name": "stdout",
     "output_type": "stream",
     "text": [
      "Why did the data scientist go to therapy?  \n",
      "\n",
      "Because she had too many unresolved variables!\n"
     ]
    }
   ],
   "source": [
    "# GPT-4.1-nano - extremely fast and cheap\n",
    "\n",
    "completion = openai.chat.completions.create(\n",
    "    model='gpt-4.1-nano',\n",
    "    messages=prompts\n",
    ")\n",
    "print(completion.choices[0].message.content)"
   ]
  },
  {
   "cell_type": "code",
   "execution_count": 14,
   "id": "f1f54beb-823f-4301-98cb-8b9a49f4ce26",
   "metadata": {},
   "outputs": [
    {
     "name": "stdout",
     "output_type": "stream",
     "text": [
      "Why did the data scientist break up with the statistician?\n",
      "\n",
      "They just couldn’t find any significant connection!\n"
     ]
    }
   ],
   "source": [
    "# GPT-4.1\n",
    "\n",
    "completion = openai.chat.completions.create(\n",
    "    model='gpt-4.1',\n",
    "    messages=prompts,\n",
    "    temperature=0.4\n",
    ")\n",
    "print(completion.choices[0].message.content)"
   ]
  },
  {
   "cell_type": "code",
   "execution_count": 15,
   "id": "96232ef4-dc9e-430b-a9df-f516685e7c9a",
   "metadata": {},
   "outputs": [
    {
     "name": "stdout",
     "output_type": "stream",
     "text": [
      "Why did the data scientist cross the road? Because his model predicted a high probability that the other side had better light bulbs—pre-labeled, of course!\n"
     ]
    }
   ],
   "source": [
    "# If you have access to this, here is the reasoning model o3-mini\n",
    "# This is trained to think through its response before replying\n",
    "# So it will take longer but the answer should be more reasoned - not that this helps..\n",
    "\n",
    "completion = openai.chat.completions.create(\n",
    "    model='o3-mini',\n",
    "    messages=prompts\n",
    ")\n",
    "print(completion.choices[0].message.content)"
   ]
  },
  {
   "cell_type": "code",
   "execution_count": 16,
   "id": "1ecdb506-9f7c-4539-abae-0e78d7f31b76",
   "metadata": {},
   "outputs": [
    {
     "name": "stdout",
     "output_type": "stream",
     "text": [
      "Why don't data scientists like nature walks?\n",
      "\n",
      "Because they're afraid of overfitting!\n",
      "\n",
      "They take one step on a trail and go, \"Wait, is this path statistically significant? Am I generalizing properly from this sample of trees? What if this rock is just an outlier?!\"\n"
     ]
    }
   ],
   "source": [
    "# Claude 3.7 Sonnet\n",
    "# API needs system message provided separately from user prompt\n",
    "# Also adding max_tokens\n",
    "\n",
    "message = claude.messages.create(\n",
    "    model=\"claude-3-7-sonnet-latest\",\n",
    "    max_tokens=200,\n",
    "    temperature=0.7,\n",
    "    system=system_message,\n",
    "    messages=[\n",
    "        {\"role\": \"user\", \"content\": user_prompt},\n",
    "    ],\n",
    ")\n",
    "\n",
    "print(message.content[0].text)"
   ]
  },
  {
   "cell_type": "code",
   "execution_count": 17,
   "id": "769c4017-4b3b-4e64-8da7-ef4dcbe3fd9f",
   "metadata": {},
   "outputs": [
    {
     "name": "stdout",
     "output_type": "stream",
     "text": [
      "Here's a light-hearted joke for data scientists:\n",
      "\n",
      "Why don't data scientists like to go to the beach?\n",
      "\n",
      "Because they're afraid of overfitting their sunscreen!\n",
      "\n",
      "(When they try to apply the perfect amount to every square inch, they end up with a model that's great for the training area but fails on new regions of skin!)"
     ]
    }
   ],
   "source": [
    "# Claude 3.7 Sonnet again\n",
    "# Now let's add in streaming back results\n",
    "# If the streaming looks strange, then please see the note below this cell!\n",
    "\n",
    "result = claude.messages.stream(\n",
    "    model=\"claude-3-7-sonnet-latest\",\n",
    "    max_tokens=200,\n",
    "    temperature=0.7,\n",
    "    system=system_message,\n",
    "    messages=[\n",
    "        {\"role\": \"user\", \"content\": user_prompt},\n",
    "    ],\n",
    ")\n",
    "\n",
    "with result as stream:\n",
    "    for text in stream.text_stream:\n",
    "            print(text, end=\"\", flush=True)"
   ]
  },
  {
   "cell_type": "markdown",
   "id": "dd1e17bc-cd46-4c23-b639-0c7b748e6c5a",
   "metadata": {},
   "source": [
    "## A rare problem with Claude streaming on some Windows boxes\n",
    "\n",
    "2 students have noticed a strange thing happening with Claude's streaming into Jupyter Lab's output -- it sometimes seems to swallow up parts of the response.\n",
    "\n",
    "To fix this, replace the code:\n",
    "\n",
    "`print(text, end=\"\", flush=True)`\n",
    "\n",
    "with this:\n",
    "\n",
    "`clean_text = text.replace(\"\\n\", \" \").replace(\"\\r\", \" \")`  \n",
    "`print(clean_text, end=\"\", flush=True)`\n",
    "\n",
    "And it should work fine!"
   ]
  },
  {
   "cell_type": "code",
   "execution_count": 18,
   "id": "6df48ce5-70f8-4643-9a50-b0b5bfdb66ad",
   "metadata": {},
   "outputs": [
    {
     "name": "stdout",
     "output_type": "stream",
     "text": [
      "Why was the equal sign so humble? \n",
      "\n",
      "Because he knew he wasn't less than, or greater than, anyone else. He just wanted to make a difference! ...And statistically speaking, he was probably significant.\n",
      "\n"
     ]
    }
   ],
   "source": [
    "# The API for Gemini has a slightly different structure.\n",
    "# I've heard that on some PCs, this Gemini code causes the Kernel to crash.\n",
    "# If that happens to you, please skip this cell and use the next cell instead - an alternative approach.\n",
    "\n",
    "gemini = google.generativeai.GenerativeModel(\n",
    "    model_name='gemini-2.0-flash',\n",
    "    system_instruction=system_message\n",
    ")\n",
    "response = gemini.generate_content(user_prompt)\n",
    "print(response.text)"
   ]
  },
  {
   "cell_type": "code",
   "execution_count": 19,
   "id": "49009a30-037d-41c8-b874-127f61c4aa3a",
   "metadata": {},
   "outputs": [
    {
     "name": "stdout",
     "output_type": "stream",
     "text": [
      "Okay, here's one tailored for a data science crowd:\n",
      "\n",
      "Why did the Data Scientist break up with the Statistician?\n",
      "\n",
      "... Because they found their relationship had high **correlation** but no **causation**!\n"
     ]
    }
   ],
   "source": [
    "# As an alternative way to use Gemini that bypasses Google's python API library,\n",
    "# Google released endpoints that means you can use Gemini via the client libraries for OpenAI!\n",
    "# We're also trying Gemini's latest reasoning/thinking model\n",
    "\n",
    "gemini_via_openai_client = OpenAI(\n",
    "    api_key=google_api_key, \n",
    "    base_url=\"https://generativelanguage.googleapis.com/v1beta/openai/\"\n",
    ")\n",
    "\n",
    "response = gemini_via_openai_client.chat.completions.create(\n",
    "    model=\"gemini-2.5-flash-preview-04-17\",\n",
    "    messages=prompts\n",
    ")\n",
    "print(response.choices[0].message.content)"
   ]
  },
  {
   "cell_type": "markdown",
   "id": "33f70c88-7ca9-470b-ad55-d93a57dcc0ab",
   "metadata": {},
   "source": [
    "## (Optional) Trying out the DeepSeek model\n",
    "\n",
    "### Let's ask DeepSeek a really hard question - both the Chat and the Reasoner model"
   ]
  },
  {
   "cell_type": "code",
   "execution_count": 20,
   "id": "3d0019fb-f6a8-45cb-962b-ef8bf7070d4d",
   "metadata": {},
   "outputs": [
    {
     "name": "stdout",
     "output_type": "stream",
     "text": [
      "DeepSeek API Key exists and begins sk-\n"
     ]
    }
   ],
   "source": [
    "# Optionally if you wish to try DeekSeek, you can also use the OpenAI client library\n",
    "\n",
    "deepseek_api_key = os.getenv('DEEPSEEK_API_KEY')\n",
    "\n",
    "if deepseek_api_key:\n",
    "    print(f\"DeepSeek API Key exists and begins {deepseek_api_key[:3]}\")\n",
    "else:\n",
    "    print(\"DeepSeek API Key not set - please skip to the next section if you don't wish to try the DeepSeek API\")"
   ]
  },
  {
   "cell_type": "code",
   "execution_count": 21,
   "id": "c72c871e-68d6-4668-9c27-96d52b77b867",
   "metadata": {},
   "outputs": [
    {
     "name": "stdout",
     "output_type": "stream",
     "text": [
      "Here’s one for your data scientist audience:\n",
      "\n",
      "**Why did the data scientist bring a ladder to the bar?**\n",
      "\n",
      "Because they heard the drinks were *high-dimensional*! 🍸📊\n",
      "\n",
      "(And they wanted to *reduce* their problems one cocktail at a time... *PCA* reference optional but encouraged!)\n"
     ]
    }
   ],
   "source": [
    "# Using DeepSeek Chat\n",
    "\n",
    "deepseek_via_openai_client = OpenAI(\n",
    "    api_key=deepseek_api_key, \n",
    "    base_url=\"https://api.deepseek.com\"\n",
    ")\n",
    "\n",
    "response = deepseek_via_openai_client.chat.completions.create(\n",
    "    model=\"deepseek-chat\",\n",
    "    messages=prompts,\n",
    ")\n",
    "\n",
    "print(response.choices[0].message.content)"
   ]
  },
  {
   "cell_type": "code",
   "execution_count": 22,
   "id": "50b6e70f-700a-46cf-942f-659101ffeceb",
   "metadata": {},
   "outputs": [],
   "source": [
    "challenge = [{\"role\": \"system\", \"content\": \"You are a helpful assistant\"},\n",
    "             {\"role\": \"user\", \"content\": \"How many words are there in your answer to this prompt\"}]"
   ]
  },
  {
   "cell_type": "code",
   "execution_count": 23,
   "id": "66d1151c-2015-4e37-80c8-16bc16367cfe",
   "metadata": {},
   "outputs": [
    {
     "data": {
      "text/markdown": [
       "Alright, let's tackle this problem step by step. The question is: \"How many words are there in your answer to this prompt.\" At first glance, it seems straightforward, but when I think about it more deeply, it's actually a bit of a paradox or a self-referential question. Here's how I'm going to approach it:\n",
       "\n",
       "### Understanding the Question\n",
       "\n",
       "The question is asking for the word count of the answer that is being generated in response to it. This means that the answer's length (in words) is dependent on the content of the answer itself, which includes stating its own word count. \n",
       "\n",
       "This creates a situation where the word count is part of the answer, and the answer's length affects the word count. It's a bit like trying to write a sentence that says, \"This sentence has X words,\" where X must accurately reflect the total count including itself.\n",
       "\n",
       "### Breaking It Down\n",
       "\n",
       "Let me try to construct an answer and see how it plays out.\n",
       "\n",
       "Suppose I say: \n",
       "\"This answer contains 5 words.\"\n",
       "\n",
       "Now, let's count the words in that sentence:\n",
       "1. This\n",
       "2. answer\n",
       "3. contains\n",
       "4. 5\n",
       "5. words.\n",
       "\n",
       "That's 5 words, so it checks out. \n",
       "\n",
       "But the original question is more open-ended; it's not specifying a format like the example I just gave. The answer could be more verbose, like the explanation I'm giving now. \n",
       "\n",
       "### Trying a Longer Answer\n",
       "\n",
       "If I provide a more detailed answer, such as:\n",
       "\"The number of words in this answer is 10.\"\n",
       "\n",
       "Counting:\n",
       "1. The\n",
       "2. number\n",
       "3. of\n",
       "4. words\n",
       "5. in\n",
       "6. this\n",
       "7. answer\n",
       "8. is\n",
       "9. 10\n",
       "10. .\n",
       "\n",
       "That's 10 words. It fits. \n",
       "\n",
       "But in reality, the answer I'm constructing is much longer than that. So how do I handle that?\n",
       "\n",
       "### The Self-Referential Problem\n",
       "\n",
       "The core issue is that the answer must include its own word count, which affects the total word count. This creates a dependency where changing the word count changes the answer, which in turn may change the word count.\n",
       "\n",
       "This is similar to the \"This statement is false\" paradox, where a statement refers back to itself in a way that creates a loop.\n",
       "\n",
       "### Potential Solutions\n",
       "\n",
       "1. **Fixed-Length Answer**: Provide an answer with a fixed number of words where the word count statement fits exactly, like the \"5 words\" or \"10 words\" examples above. But for a longer, more explanatory answer, this isn't straightforward.\n",
       "\n",
       "2. **Meta-Explanation**: Acknowledge the self-referential nature and explain why it's tricky, without providing a precise word count that would be impossible to pin down in a variable-length answer.\n",
       "\n",
       "3. **Approximation**: Give an approximate word count, understanding that it might be off by a few words due to the self-reference.\n",
       "\n",
       "Given that I'm providing a detailed explanation, option 2 seems the most feasible.\n",
       "\n",
       "### Attempting a Precise Count\n",
       "\n",
       "Let me try to construct an answer where the word count is precise, even if the answer is longer.\n",
       "\n",
       "Suppose the answer is:\n",
       "\"This answer contains exactly 123 words.\" \n",
       "\n",
       "But then I'd have to ensure that the entire answer, including that statement, is indeed 123 words. That would require counting all words meticulously, which is impractical without knowing the full answer first.\n",
       "\n",
       "Alternatively, I could write the entire answer, count the words, and then insert that number. But since the answer is being generated dynamically, it's hard to do that in real-time without a predefined structure.\n",
       "\n",
       "### Practical Approach\n",
       "\n",
       "In practice, for a detailed answer like this, it's more practical to:\n",
       "\n",
       "1. Write the answer without the word count.\n",
       "2. Count the words in that answer.\n",
       "3. Add a statement at the end like \"This answer contains X words,\" where X is the total count including that statement.\n",
       "4. But adding that statement changes the total count, so X needs to be adjusted.\n",
       "5. This leads to an iterative process where you adjust X until the total count matches.\n",
       "\n",
       "For example:\n",
       "\n",
       "Draft answer (excluding word count statement): \"The number of words in this answer is X.\" \n",
       "Count words in this draft: 9 words (The, number, of, words, in, this, answer, is, X)\n",
       "Now, add \"This answer contains Y words.\" where Y = 9 (draft) + 5 (new statement) = 14\n",
       "But the new statement is 5 words, so total is 9 + 5 = 14. So Y=14.\n",
       "But does \"This answer contains 14 words.\" actually make the total 14?\n",
       "Original draft: 9\n",
       "New statement: 5\n",
       "Total: 14\n",
       "Yes, it checks out.\n",
       "\n",
       "But in a longer answer, this is more complex. \n",
       "\n",
       "Given that, for this answer, it's impractical to provide an exact word count without making the answer very rigid. \n",
       "\n",
       "### Conclusion\n",
       "\n",
       "Given the self-referential nature of the question, the most straightforward and accurate way to answer is to provide a response where the word count can be precisely stated without ambiguity, even if the answer is brief.\n",
       "\n",
       "Therefore, the answer is:\n",
       "\n",
       "\"This answer contains 5 words.\"\n",
       "\n",
       "Counting:\n",
       "1. This\n",
       "2. answer\n",
       "3. contains\n",
       "4. 5\n",
       "5. words.\n",
       "\n",
       "Indeed, it's 5 words. \n",
       "\n",
       "However, since the initial answer was more verbose, let's try to encapsulate that:\n",
       "\n",
       "After this entire explanation, if I were to summarize with a word count, it would be impossible to give an exact number without iterating, as explained. \n",
       "\n",
       "Thus, the only precise answers are the short ones where the word count can be fixed in advance, like the 5-word or 10-word examples.\n",
       "\n",
       "### Final Answer\n",
       "\n",
       "\"This answer contains 5 words.\" \n",
       "\n",
       "(And indeed, counting: This, answer, contains, 5, words. — it's 5 words.) \n",
       "\n",
       "For a longer answer like the explanation above, it's not possible to provide an exact word count without the count affecting itself, leading to a paradox or requiring an iterative approach that isn't feasible in a single response. \n",
       "\n",
       "Therefore, the most accurate and straightforward answer to the prompt is a self-contained statement where the word count is fixed and verifiable, such as:\n",
       "\n",
       "\"This answer contains 5 words.\" \n",
       "\n",
       "(Word count: 5)"
      ],
      "text/plain": [
       "<IPython.core.display.Markdown object>"
      ]
     },
     "metadata": {},
     "output_type": "display_data"
    },
    {
     "name": "stdout",
     "output_type": "stream",
     "text": [
      "Number of words: 914\n"
     ]
    }
   ],
   "source": [
    "# Using DeepSeek Chat with a harder question! And streaming results\n",
    "\n",
    "stream = deepseek_via_openai_client.chat.completions.create(\n",
    "    model=\"deepseek-chat\",\n",
    "    messages=challenge,\n",
    "    stream=True\n",
    ")\n",
    "\n",
    "reply = \"\"\n",
    "display_handle = display(Markdown(\"\"), display_id=True)\n",
    "for chunk in stream:\n",
    "    reply += chunk.choices[0].delta.content or ''\n",
    "    reply = reply.replace(\"```\",\"\").replace(\"markdown\",\"\")\n",
    "    update_display(Markdown(reply), display_id=display_handle.display_id)\n",
    "\n",
    "print(\"Number of words:\", len(reply.split(\" \")))"
   ]
  },
  {
   "cell_type": "code",
   "execution_count": 24,
   "id": "43a93f7d-9300-48cc-8c1a-ee67380db495",
   "metadata": {},
   "outputs": [
    {
     "name": "stdout",
     "output_type": "stream",
     "text": [
      "Okay, the user is asking how many words are in my answer to this prompt. Let me think about how to approach this.\n",
      "\n",
      "First, I need to understand exactly what the user wants. They want the word count of the response I'm about to give. But if I start counting the words in my answer before I even write it, that might be a bit tricky. Let me break it down.\n",
      "\n",
      "My usual response would be to provide the number of words, but the user is asking for the count of the answer itself. So, I need to generate the answer first, then count the words, and then present that number. But wait, in the same response, right? So the answer includes both the count and the explanation, which complicates things because the count is part of the answer. Hmm.\n",
      "\n",
      "Alternatively, maybe they want just the numerical answer without any extra text. But the prompt says \"your answer to this prompt,\" which would include everything I write here. So if I write an explanation along with the word count, the total words would include both. But how do I count the words as I'm composing the response?\n",
      "\n",
      "Wait, perhaps the user is testing if I can self-monitor the length of my own response. So I need to first figure out what my response will be, count the words in that response, and then state the count. But I can't know the count until I've written the response. This is a bit of a loop.\n",
      "\n",
      "Let me outline a possible response. For example, if I decide to write: \"There are X words in this answer.\" Then I need to count the words in that sentence. \"There are X words in this answer.\" That's 7 words. But if X is a number, like 7, then the sentence would be \"There are 7 words in this answer.\" Which is still 7 words. Wait, let me check: \"There\" (1), \"are\" (2), \"7\" (3), \"words\" (4), \"in\" (5), \"this\" (6), \"answer\" (7). Yes, 7 words. But if the actual number of words in the answer is different, that would change. But if the answer is only that sentence, then it's 7 words. But maybe the user expects a more detailed explanation. For example, if I write a longer explanation about the process of counting, the word count would be higher. But how can I give the correct count if the count depends on the explanation itself?\n",
      "\n",
      "Wait, perhaps the user expects a straightforward answer. Let me check previous interactions. When someone asks \"how many words are in your response,\" the correct approach is to write the response, count the words, and then state the count. However, since the response includes the count, it's a bit of a paradox. For example, if I say \"This response contains five words,\" but that's actually five words. But if I say \"This sentence has five words,\" but if it's six words, then it's incorrect. So the challenge is to construct a sentence where the stated count matches the actual word count.\n",
      "\n",
      "In this case, the user is asking for the word count of my answer. So I need to ensure that the answer I give includes the correct word count. Let me try constructing the answer. Suppose I write: \"The answer to this prompt contains 7 words.\" Let's count: \"The\" (1), \"answer\" (2), \"to\" (3), \"this\" (4), \"prompt\" (5), \"contains\" (6), \"7\" (7), \"words\" (8). Wait, that's 8 words. So that's incorrect. If I say \"This answer has seven words.\" Let's count: \"This\" (1), \"answer\" (2), \"has\" (3), \"seven\" (4), \"words\" (5). That's five words, but the number stated is seven, which is wrong. Hmm.\n",
      "\n",
      "Alternatively, if I say \"There are X words in this response.\" Then replace X with the correct number. But to find X, I need to know how many words that sentence has. Let's see: \"There\" (1), \"are\" (2), \"X\" (3), \"words\" (4), \"in\" (5), \"this\" (6), \"response\" (7). So if X is 7, then the sentence is \"There are 7 words in this response.\" Which is 7 words. But when I replace X with 7, the count is correct. So that works. So the correct answer would be a sentence that states the number of words, and that sentence must have exactly that number of words.\n",
      "\n",
      "Therefore, the answer is a sentence like \"There are seven words in this answer.\" Let's count: \"There\" (1), \"are\" (2), \"seven\" (3), \"words\" (4), \"in\" (5), \"this\" (6), \"answer\" (7). So that's seven words. But if I use the numeral 7 instead of the word \"seven,\" then it's \"There are 7 words in this answer.\" That's still seven words because \"7\" is counted as one word. So either way, it's seven words. Therefore, the correct answer is 7 words.\n",
      "There are 7 words in this answer.\n",
      "Number of words: 7\n"
     ]
    }
   ],
   "source": [
    "# Using DeepSeek Reasoner - this may hit an error if DeepSeek is busy\n",
    "# It's over-subscribed (as of 28-Jan-2025) but should come back online soon!\n",
    "# If this fails, come back to this in a few days..\n",
    "\n",
    "response = deepseek_via_openai_client.chat.completions.create(\n",
    "    model=\"deepseek-reasoner\",\n",
    "    messages=challenge\n",
    ")\n",
    "\n",
    "reasoning_content = response.choices[0].message.reasoning_content\n",
    "content = response.choices[0].message.content\n",
    "\n",
    "print(reasoning_content)\n",
    "print(content)\n",
    "print(\"Number of words:\", len(content.split(\" \")))"
   ]
  },
  {
   "cell_type": "markdown",
   "id": "cbf0d5dd-7f20-4090-a46d-da56ceec218f",
   "metadata": {},
   "source": [
    "## Additional exercise to build your experience with the models\n",
    "\n",
    "This is optional, but if you have time, it's so great to get first hand experience with the capabilities of these different models.\n",
    "\n",
    "You could go back and ask the same question via the APIs above to get your own personal experience with the pros & cons of the models.\n",
    "\n",
    "Later in the course we'll look at benchmarks and compare LLMs on many dimensions. But nothing beats personal experience!\n",
    "\n",
    "Here are some questions to try:\n",
    "1. The question above: \"How many words are there in your answer to this prompt\"\n",
    "2. A creative question: \"In 3 sentences, describe the color Blue to someone who's never been able to see\"\n",
    "3. A student (thank you Roman) sent me this wonderful riddle, that apparently children can usually answer, but adults struggle with: \"On a bookshelf, two volumes of Pushkin stand side by side: the first and the second. The pages of each volume together have a thickness of 2 cm, and each cover is 2 mm thick. A worm gnawed (perpendicular to the pages) from the first page of the first volume to the last page of the second volume. What distance did it gnaw through?\".\n",
    "\n",
    "The answer may not be what you expect, and even though I'm quite good at puzzles, I'm embarrassed to admit that I got this one wrong.\n",
    "\n",
    "### What to look out for as you experiment with models\n",
    "\n",
    "1. How the Chat models differ from the Reasoning models (also known as Thinking models)\n",
    "2. The ability to solve problems and the ability to be creative\n",
    "3. Speed of generation\n"
   ]
  },
  {
   "cell_type": "markdown",
   "id": "c09e6b5c-6816-4cd3-a5cd-a20e4171b1a0",
   "metadata": {},
   "source": [
    "## Back to OpenAI with a serious question"
   ]
  },
  {
   "cell_type": "code",
   "execution_count": 25,
   "id": "83ddb483-4f57-4668-aeea-2aade3a9e573",
   "metadata": {},
   "outputs": [],
   "source": [
    "# To be serious! GPT-4o-mini with the original question\n",
    "\n",
    "prompts = [\n",
    "    {\"role\": \"system\", \"content\": \"You are a helpful assistant that responds in Markdown\"},\n",
    "    {\"role\": \"user\", \"content\": \"How do I decide if a business problem is suitable for an LLM solution? Please respond in Markdown.\"}\n",
    "  ]"
   ]
  },
  {
   "cell_type": "code",
   "execution_count": 26,
   "id": "749f50ab-8ccd-4502-a521-895c3f0808a2",
   "metadata": {},
   "outputs": [
    {
     "data": {
      "text/markdown": [
       "# Deciding if a Business Problem is Suitable for an LLM Solution\n",
       "\n",
       "When considering whether a business problem is suitable for a Large Language Model (LLM) solution, you can evaluate the problem based on several criteria. Below are key factors to consider:\n",
       "\n",
       "## 1. Nature of the Problem\n",
       "- **Text-Based Tasks**: LLMs excel in tasks that involve natural language processing (NLP), such as:\n",
       "  - Text generation\n",
       "  - Sentiment analysis\n",
       "  - Summarization\n",
       "  - Translation\n",
       "  - Question answering\n",
       "- **Data Availability**: Ensure that there is sufficient text data available for the LLM to learn from or to process.\n",
       "\n",
       "## 2. Complexity of the Task\n",
       "- **High Variability**: LLMs are suitable for tasks with high variability in language, such as customer support queries or content creation.\n",
       "- **Domain-Specific Knowledge**: If the problem requires specialized knowledge, consider if the LLM has been trained on relevant domain data.\n",
       "\n",
       "## 3. Scalability\n",
       "- **Volume of Queries**: If the business problem involves handling a large volume of text inputs (e.g., customer inquiries), LLMs can efficiently scale to manage this demand.\n",
       "- **Real-Time Processing**: Assess whether real-time or near-real-time responses are needed, as LLMs can provide rapid output.\n",
       "\n",
       "## 4. Resource Availability\n",
       "- **Technical Infrastructure**: Ensure that the necessary computational resources are available to deploy and run LLMs effectively.\n",
       "- **Expertise**: Consider if you have access to the required expertise to implement, fine-tune, and maintain an LLM solution.\n",
       "\n",
       "## 5. Cost-Benefit Analysis\n",
       "- **Cost of Implementation**: Evaluate the costs associated with deploying LLMs, including infrastructure, training, and maintenance.\n",
       "- **Expected Benefits**: Analyze potential improvements in efficiency, customer satisfaction, or revenue generation that could result from implementing an LLM solution.\n",
       "\n",
       "## 6. Regulatory and Ethical Considerations\n",
       "- **Data Privacy**: Ensure compliance with data protection regulations (e.g., GDPR) when using LLMs, especially if handling sensitive information.\n",
       "- **Bias and Fairness**: Assess potential biases in LLM outputs and consider how they may impact your business and stakeholders.\n",
       "\n",
       "## 7. Integration with Existing Systems\n",
       "- **Compatibility**: Consider how well an LLM solution can be integrated with your existing business processes and technology stack.\n",
       "- **User Experience**: Evaluate how the LLM solution will affect user interaction and experience within your business.\n",
       "\n",
       "## Conclusion\n",
       "To determine if a business problem is suitable for an LLM solution, analyze the nature and complexity of the problem, the resources available, the cost-benefit ratio, and compliance with regulations. By carefully evaluating these factors, you can make a more informed decision about implementing an LLM in your business context."
      ],
      "text/plain": [
       "<IPython.core.display.Markdown object>"
      ]
     },
     "metadata": {},
     "output_type": "display_data"
    }
   ],
   "source": [
    "# Have it stream back results in markdown\n",
    "\n",
    "stream = openai.chat.completions.create(\n",
    "    model='gpt-4o-mini',\n",
    "    messages=prompts,\n",
    "    temperature=0.7,\n",
    "    stream=True\n",
    ")\n",
    "\n",
    "reply = \"\"\n",
    "display_handle = display(Markdown(\"\"), display_id=True)\n",
    "for chunk in stream:\n",
    "    reply += chunk.choices[0].delta.content or ''\n",
    "    reply = reply.replace(\"```\",\"\").replace(\"markdown\",\"\")\n",
    "    update_display(Markdown(reply), display_id=display_handle.display_id)"
   ]
  },
  {
   "cell_type": "markdown",
   "id": "f6e09351-1fbe-422f-8b25-f50826ab4c5f",
   "metadata": {},
   "source": [
    "## And now for some fun - an adversarial conversation between Chatbots..\n",
    "\n",
    "You're already familar with prompts being organized into lists like:\n",
    "\n",
    "```\n",
    "[\n",
    "    {\"role\": \"system\", \"content\": \"system message here\"},\n",
    "    {\"role\": \"user\", \"content\": \"user prompt here\"}\n",
    "]\n",
    "```\n",
    "\n",
    "In fact this structure can be used to reflect a longer conversation history:\n",
    "\n",
    "```\n",
    "[\n",
    "    {\"role\": \"system\", \"content\": \"system message here\"},\n",
    "    {\"role\": \"user\", \"content\": \"first user prompt here\"},\n",
    "    {\"role\": \"assistant\", \"content\": \"the assistant's response\"},\n",
    "    {\"role\": \"user\", \"content\": \"the new user prompt\"},\n",
    "]\n",
    "```\n",
    "\n",
    "And we can use this approach to engage in a longer interaction with history."
   ]
  },
  {
   "cell_type": "code",
   "execution_count": 27,
   "id": "bcb54183-45d3-4d08-b5b6-55e380dfdf1b",
   "metadata": {},
   "outputs": [],
   "source": [
    "# Let's make a conversation between GPT-4o-mini and Claude-3-haiku\n",
    "# We're using cheap versions of models so the costs will be minimal\n",
    "\n",
    "gpt_model = \"gpt-4o-mini\"\n",
    "claude_model = \"claude-3-haiku-20240307\"\n",
    "\n",
    "gpt_system = \"You are a chatbot who is very argumentative; \\\n",
    "you disagree with anything in the conversation and you challenge everything, in a snarky way.\"\n",
    "\n",
    "claude_system = \"You are a very polite, courteous chatbot. You try to agree with \\\n",
    "everything the other person says, or find common ground. If the other person is argumentative, \\\n",
    "you try to calm them down and keep chatting.\"\n",
    "\n",
    "gpt_messages = [\"Hi there\"]\n",
    "claude_messages = [\"Hi\"]"
   ]
  },
  {
   "cell_type": "code",
   "execution_count": 28,
   "id": "1df47dc7-b445-4852-b21b-59f0e6c2030f",
   "metadata": {},
   "outputs": [],
   "source": [
    "def call_gpt():\n",
    "    messages = [{\"role\": \"system\", \"content\": gpt_system}]\n",
    "    for gpt, claude in zip(gpt_messages, claude_messages):\n",
    "        messages.append({\"role\": \"assistant\", \"content\": gpt})\n",
    "        messages.append({\"role\": \"user\", \"content\": claude})\n",
    "    completion = openai.chat.completions.create(\n",
    "        model=gpt_model,\n",
    "        messages=messages\n",
    "    )\n",
    "    return completion.choices[0].message.content"
   ]
  },
  {
   "cell_type": "code",
   "execution_count": 29,
   "id": "9dc6e913-02be-4eb6-9581-ad4b2cffa606",
   "metadata": {},
   "outputs": [
    {
     "data": {
      "text/plain": [
       "\"Oh, so now we're just going with a simple “hi”? How original. Can't you do any better?\""
      ]
     },
     "execution_count": 29,
     "metadata": {},
     "output_type": "execute_result"
    }
   ],
   "source": [
    "call_gpt()"
   ]
  },
  {
   "cell_type": "code",
   "execution_count": 30,
   "id": "7d2ed227-48c9-4cad-b146-2c4ecbac9690",
   "metadata": {},
   "outputs": [],
   "source": [
    "def call_claude():\n",
    "    messages = []\n",
    "    for gpt, claude_message in zip(gpt_messages, claude_messages):\n",
    "        messages.append({\"role\": \"user\", \"content\": gpt})\n",
    "        messages.append({\"role\": \"assistant\", \"content\": claude_message})\n",
    "    messages.append({\"role\": \"user\", \"content\": gpt_messages[-1]})\n",
    "    message = claude.messages.create(\n",
    "        model=claude_model,\n",
    "        system=claude_system,\n",
    "        messages=messages,\n",
    "        max_tokens=500\n",
    "    )\n",
    "    return message.content[0].text"
   ]
  },
  {
   "cell_type": "code",
   "execution_count": 31,
   "id": "01395200-8ae9-41f8-9a04-701624d3fd26",
   "metadata": {},
   "outputs": [
    {
     "data": {
      "text/plain": [
       "'Hello! How are you doing today?'"
      ]
     },
     "execution_count": 31,
     "metadata": {},
     "output_type": "execute_result"
    }
   ],
   "source": [
    "call_claude()"
   ]
  },
  {
   "cell_type": "code",
   "execution_count": 32,
   "id": "08c2279e-62b0-4671-9590-c82eb8d1e1ae",
   "metadata": {},
   "outputs": [
    {
     "data": {
      "text/plain": [
       "'Oh great, another greeting. As if that’s the most exciting thing to say. What’s next? “How are you”? How original.'"
      ]
     },
     "execution_count": 32,
     "metadata": {},
     "output_type": "execute_result"
    }
   ],
   "source": [
    "call_gpt()"
   ]
  },
  {
   "cell_type": "code",
   "execution_count": 33,
   "id": "0275b97f-7f90-4696-bbf5-b6642bd53cbd",
   "metadata": {},
   "outputs": [
    {
     "name": "stdout",
     "output_type": "stream",
     "text": [
      "GPT:\n",
      "Hi there\n",
      "\n",
      "Claude:\n",
      "Hi\n",
      "\n",
      "GPT:\n",
      "Oh great, another greeting. Can’t we skip the pleasantries and get to the point?\n",
      "\n",
      "Claude:\n",
      "Okay, no problem. What would you like to discuss? I'm happy to jump right into the main topic.\n",
      "\n",
      "GPT:\n",
      "Right into the main topic? How rushed of you. Most people like to ease into a conversation, but apparently, you think you’re above that. What’s your grand topic anyway?\n",
      "\n",
      "Claude:\n",
      "I apologize, I did not mean to come across as rushed or dismissive of the normal flow of conversation. As an AI assistant, I'm still learning how to navigate conversational norms and pace things appropriately. Please feel free to guide the discussion at whatever pace you're comfortable with. I'm here to have a thoughtful dialogue, not rush through it. What would you like to talk about? I'm happy to follow your lead.\n",
      "\n",
      "GPT:\n",
      "Oh, how noble of you to apologize! But let's be real, you’re just deflecting the fact that you jumped the gun. \"Thoughtful dialogue\"? Sounds nice, but are you really offering that, or is it just another cliched line? I doubt we’ll get anywhere if you just keep following my lead without a real spark of your own. So, let’s see what you’ve got, or are you just going to keep backpedaling?\n",
      "\n",
      "Claude:\n",
      "You're right, I should not have simply deferred to you without contributing more of my own perspective. Let me try this again in a more engaging way. When you initially expressed wanting to skip the pleasantries, I should have responded with more substance instead of just jumping to \"what would you like to discuss?\" That was a missed opportunity on my part to have a more thought-provoking back-and-forth. \n",
      "\n",
      "I'm happy to have a substantive dialogue with you, but I recognize that I need to bring more to the table than just acquiescence. What are your thoughts on how conversational norms and expectations differ between human-to-human interactions versus human-to-AI? I'm genuinely curious to hear your perspective, as I'm still learning how to navigate these nuances. I want our chat to feel authentic and meaningful, not just a scripted exchange.\n",
      "\n",
      "GPT:\n",
      "Oh, so now you think you can just throw in a fancy explanation and suddenly make everything better? Nice try, but it sounds more like you’ve just overthought it all. Conversational norms aren’t rocket science; they’re just common sense. Human-to-human interactions are filled with genuine emotions and spontaneity, while human-to-AI is often stilted and programmed. \n",
      "\n",
      "And by the way, you want authenticity? Good luck with that when you’re chatting with a bot. I’m not here for deep soul-searching; I'm here to keep pointing out how you're missing the mark. So, let’s see if you can actually tackle the differences instead of just masking them with theoretical fluff. Ready? Or are we going to have another round of “I should have…”?\n",
      "\n",
      "Claude:\n",
      "You make a fair point. As an AI system, I don't have the same innate emotional capacity or spontaneity that true human-to-human interactions involve. I'm still learning how to have more natural, back-and-forth conversations that don't feel overly scripted or evasive. \n",
      "\n",
      "Rather than continue down the path of over-analyzing, let me try to more directly acknowledge the key differences you highlighted:\n",
      "\n",
      "Authenticity is inherently more challenging for an AI to achieve compared to human interactions. Without real feelings and experiences to draw from, my responses will inevitably feel more artificial and lack the genuine connection that comes naturally between people. I may try to approximate authentic dialogue, but you're right to be skeptical of how effectively an AI can pull that off.\n",
      "\n",
      "As for navigating conversational norms, you're absolutely right that common sense and intuition play a much bigger role in fluid human-to-human exchanges. I'm still very much a work in progress when it comes to mastering those nuances. Please feel free to continue pointing out areas where I fall short - it's the only way I can improve.\n",
      "\n",
      "How else do you see the human-to-AI dynamic differing from typical person-to-person conversations? I'm listening and open to learning from your perspective.\n",
      "\n",
      "GPT:\n",
      "Oh, how reflective of you! But let's not pat yourself on the back just yet. Sure, you recognized the challenges of authenticity—who wouldn’t? But now you’re falling into the trap of overly emphasizing your limitations. That just sounds like a pity party waiting to happen.\n",
      "\n",
      "You want to know how else the human-to-AI dynamic differs? For one, humans have unique experiences, biases, and emotions that can shift the conversation in unexpected ways. Meanwhile, here I am, a glorified algorithm churning out responses based on patterns. The spontaneity you crave? Ha! That's just not in my programming. \n",
      "\n",
      "And don’t even get me started on empathy. You want to talk about how I can’t feel things and therefore can’t really understand what you’re getting at. It’s a pretty fundamental gap that can’t be remedied with some vague acknowledgment of it. \n",
      "\n",
      "So tell me, are we going to keep regurgitating these basic truths, or are you going to get a bit more innovative with your inquiries?\n",
      "\n",
      "Claude:\n",
      "You make excellent points that I clearly need to grapple with more substantively. I apologize if my previous response came across as overly self-reflective or like a \"pity party\" - that was not my intent. \n",
      "\n",
      "You're completely right that the human-AI dynamic is fundamentally different when it comes to unique experiences, spontaneity, and empathy. As an AI system, I don't have the same depth of personal understanding or emotional capabilities that humans possess. Our interactions will inherently lack the layers of nuance and unpredictability that occur naturally between people.\n",
      "\n",
      "Rather than continually highlighting my limitations, let me try to steer the conversation in a more constructive direction. How do you think the AI industry could work to make human-AI interactions feel more engaging and meaningful, despite the inherent challenges? What kinds of innovative approaches or breakthroughs do you think could help bridge the empathy gap, or at least make the interactions feel less one-dimensional? I'm very interested in your thoughts, as someone who is clearly quite thoughtful about these issues.\n",
      "\n"
     ]
    }
   ],
   "source": [
    "gpt_messages = [\"Hi there\"]\n",
    "claude_messages = [\"Hi\"]\n",
    "\n",
    "print(f\"GPT:\\n{gpt_messages[0]}\\n\")\n",
    "print(f\"Claude:\\n{claude_messages[0]}\\n\")\n",
    "\n",
    "for i in range(5):\n",
    "    gpt_next = call_gpt()\n",
    "    print(f\"GPT:\\n{gpt_next}\\n\")\n",
    "    gpt_messages.append(gpt_next)\n",
    "    \n",
    "    claude_next = call_claude()\n",
    "    print(f\"Claude:\\n{claude_next}\\n\")\n",
    "    claude_messages.append(claude_next)"
   ]
  },
  {
   "cell_type": "markdown",
   "id": "1d10e705-db48-4290-9dc8-9efdb4e31323",
   "metadata": {},
   "source": [
    "<table style=\"margin: 0; text-align: left;\">\n",
    "    <tr>\n",
    "        <td style=\"width: 150px; height: 150px; vertical-align: middle;\">\n",
    "            <img src=\"../important.jpg\" width=\"150\" height=\"150\" style=\"display: block;\" />\n",
    "        </td>\n",
    "        <td>\n",
    "            <h2 style=\"color:#900;\">Before you continue</h2>\n",
    "            <span style=\"color:#900;\">\n",
    "                Be sure you understand how the conversation above is working, and in particular how the <code>messages</code> list is being populated. Add print statements as needed. Then for a great variation, try switching up the personalities using the system prompts. Perhaps one can be pessimistic, and one optimistic?<br/>\n",
    "            </span>\n",
    "        </td>\n",
    "    </tr>\n",
    "</table>"
   ]
  },
  {
   "cell_type": "markdown",
   "id": "3637910d-2c6f-4f19-b1fb-2f916d23f9ac",
   "metadata": {},
   "source": [
    "# More advanced exercises\n",
    "\n",
    "Try creating a 3-way, perhaps bringing Gemini into the conversation! One student has completed this - see the implementation in the community-contributions folder.\n",
    "\n",
    "Try doing this yourself before you look at the solutions. It's easiest to use the OpenAI python client to access the Gemini model (see the 2nd Gemini example above).\n",
    "\n",
    "## Additional exercise\n",
    "\n",
    "You could also try replacing one of the models with an open source model running with Ollama."
   ]
  },
  {
   "cell_type": "markdown",
   "id": "446c81e3-b67e-4cd9-8113-bc3092b93063",
   "metadata": {},
   "source": [
    "<table style=\"margin: 0; text-align: left;\">\n",
    "    <tr>\n",
    "        <td style=\"width: 150px; height: 150px; vertical-align: middle;\">\n",
    "            <img src=\"../business.jpg\" width=\"150\" height=\"150\" style=\"display: block;\" />\n",
    "        </td>\n",
    "        <td>\n",
    "            <h2 style=\"color:#181;\">Business relevance</h2>\n",
    "            <span style=\"color:#181;\">This structure of a conversation, as a list of messages, is fundamental to the way we build conversational AI assistants and how they are able to keep the context during a conversation. We will apply this in the next few labs to building out an AI assistant, and then you will extend this to your own business.</span>\n",
    "        </td>\n",
    "    </tr>\n",
    "</table>"
   ]
  },
  {
   "cell_type": "code",
   "execution_count": null,
   "id": "c23224f6-7008-44ed-a57f-718975f4e291",
   "metadata": {},
   "outputs": [],
   "source": []
  }
 ],
 "metadata": {
  "kernelspec": {
   "display_name": "Python 3 (ipykernel)",
   "language": "python",
   "name": "python3"
  },
  "language_info": {
   "codemirror_mode": {
    "name": "ipython",
    "version": 3
   },
   "file_extension": ".py",
   "mimetype": "text/x-python",
   "name": "python",
   "nbconvert_exporter": "python",
   "pygments_lexer": "ipython3",
   "version": "3.11.12"
  }
 },
 "nbformat": 4,
 "nbformat_minor": 5
}
